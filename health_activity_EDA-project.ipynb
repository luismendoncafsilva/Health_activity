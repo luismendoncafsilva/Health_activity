{
 "cells": [
  {
   "cell_type": "markdown",
   "id": "b856f584",
   "metadata": {},
   "source": [
    "\n",
    "\n",
    "Health & Lifestyle Dataset – Analyze Well-being, Habits, and Trends Easily"
   ]
  },
  {
   "cell_type": "markdown",
   "id": "016e05df",
   "metadata": {},
   "source": [
    "Sleep, Exercise, and Heart Health\n",
    "\n",
    "Goal: Investigate how sleep hours and exercise relate to:\n",
    "\n",
    "- Heart Rate\n",
    "\n",
    "- Blood Pressure\n",
    "\n",
    "- Heart Disease"
   ]
  },
  {
   "cell_type": "code",
   "execution_count": 3,
   "id": "eccc7e96",
   "metadata": {},
   "outputs": [
    {
     "ename": "ModuleNotFoundError",
     "evalue": "No module named 'seaborn'",
     "output_type": "error",
     "traceback": [
      "\u001b[31m---------------------------------------------------------------------------\u001b[39m",
      "\u001b[31mModuleNotFoundError\u001b[39m                       Traceback (most recent call last)",
      "\u001b[36mCell\u001b[39m\u001b[36m \u001b[39m\u001b[32mIn[3]\u001b[39m\u001b[32m, line 3\u001b[39m\n\u001b[32m      1\u001b[39m \u001b[38;5;28;01mimport\u001b[39;00m\u001b[38;5;250m \u001b[39m\u001b[34;01mpandas\u001b[39;00m\u001b[38;5;250m \u001b[39m\u001b[38;5;28;01mas\u001b[39;00m\u001b[38;5;250m \u001b[39m\u001b[34;01mpd\u001b[39;00m\n\u001b[32m      2\u001b[39m \u001b[38;5;28;01mimport\u001b[39;00m\u001b[38;5;250m \u001b[39m\u001b[34;01mnumpy\u001b[39;00m\u001b[38;5;250m \u001b[39m\u001b[38;5;28;01mas\u001b[39;00m\u001b[38;5;250m \u001b[39m\u001b[34;01mnp\u001b[39;00m\n\u001b[32m----> \u001b[39m\u001b[32m3\u001b[39m \u001b[38;5;28;01mimport\u001b[39;00m\u001b[38;5;250m \u001b[39m\u001b[34;01mseaborn\u001b[39;00m\u001b[38;5;250m \u001b[39m\u001b[38;5;28;01mas\u001b[39;00m\u001b[38;5;250m \u001b[39m\u001b[34;01msns\u001b[39;00m\n\u001b[32m      4\u001b[39m \u001b[38;5;28;01mfrom\u001b[39;00m\u001b[38;5;250m \u001b[39m\u001b[34;01mmatplotlib\u001b[39;00m\u001b[38;5;250m \u001b[39m\u001b[38;5;28;01mimport\u001b[39;00m pyplot \u001b[38;5;28;01mas\u001b[39;00m plt\n\u001b[32m      5\u001b[39m \u001b[38;5;28;01mimport\u001b[39;00m\u001b[38;5;250m \u001b[39m\u001b[34;01mos\u001b[39;00m\n",
      "\u001b[31mModuleNotFoundError\u001b[39m: No module named 'seaborn'"
     ]
    }
   ],
   "source": [
    "import pandas as pd\n",
    "import numpy as np\n",
    "import seaborn as sns\n",
    "from matplotlib import pyplot as plt\n",
    "import os"
   ]
  },
  {
   "cell_type": "code",
   "execution_count": null,
   "id": "9ef2a01e",
   "metadata": {},
   "outputs": [],
   "source": [
    "#Configuring Pandas to show all rows and columns.\n",
    "pd.set_option('display.max_rows', None)\n",
    "pd.set_option('display.max_columns', None)"
   ]
  },
  {
   "cell_type": "code",
   "execution_count": null,
   "id": "bd822cfc",
   "metadata": {},
   "outputs": [],
   "source": [
    "# Open dataset\n",
    "df = pd.read_csv('C:\\\\Users\\\\Luis\\\\Downloads\\\\health_activity_data.csv',)\n"
   ]
  },
  {
   "cell_type": "code",
   "execution_count": null,
   "id": "9697bd3b",
   "metadata": {},
   "outputs": [],
   "source": [
    "df.head()"
   ]
  },
  {
   "cell_type": "code",
   "execution_count": null,
   "id": "06125171",
   "metadata": {},
   "outputs": [],
   "source": [
    "df = df.set_index('ID')"
   ]
  },
  {
   "cell_type": "code",
   "execution_count": null,
   "id": "fc71743d",
   "metadata": {},
   "outputs": [],
   "source": [
    "df.head()"
   ]
  },
  {
   "cell_type": "code",
   "execution_count": null,
   "id": "6e03ccc0",
   "metadata": {},
   "outputs": [],
   "source": [
    "df.isnull().sum()"
   ]
  },
  {
   "cell_type": "code",
   "execution_count": null,
   "id": "ce2befce",
   "metadata": {},
   "outputs": [],
   "source": [
    "df.duplicated().sum()"
   ]
  },
  {
   "cell_type": "code",
   "execution_count": null,
   "id": "2e80d8ff",
   "metadata": {},
   "outputs": [],
   "source": [
    "df.info()"
   ]
  },
  {
   "cell_type": "code",
   "execution_count": null,
   "id": "f6f3eb39",
   "metadata": {},
   "outputs": [],
   "source": [
    "df.shape"
   ]
  },
  {
   "cell_type": "code",
   "execution_count": null,
   "id": "c4e1543f",
   "metadata": {},
   "outputs": [],
   "source": [
    "df.describe()"
   ]
  },
  {
   "cell_type": "code",
   "execution_count": null,
   "id": "4e224b11",
   "metadata": {},
   "outputs": [],
   "source": [
    "sns.histplot(data=df, x='Hours_of_Sleep')\n",
    "plt.show()"
   ]
  },
  {
   "cell_type": "code",
   "execution_count": null,
   "id": "dc65a301",
   "metadata": {},
   "outputs": [],
   "source": [
    "sns.histplot(data=df, x='Exercise_Hours_per_Week')\n",
    "plt.show()"
   ]
  },
  {
   "cell_type": "code",
   "execution_count": null,
   "id": "881f9e52",
   "metadata": {},
   "outputs": [],
   "source": [
    "sns.histplot(data=df, x='Heart_Rate')\n",
    "plt.show()"
   ]
  },
  {
   "cell_type": "code",
   "execution_count": null,
   "id": "a4729076",
   "metadata": {},
   "outputs": [],
   "source": [
    "df['Heart_Disease'].value_counts().sort_index()"
   ]
  },
  {
   "cell_type": "code",
   "execution_count": null,
   "id": "706695cf",
   "metadata": {},
   "outputs": [],
   "source": [
    "heart_disease_counts = df['Heart_Disease'].value_counts()\n",
    "\n",
    "\n",
    "plt.bar(\n",
    "    x=heart_disease_counts.index.astype(str),  # astype(str) makes sure your x-axis shows labels, not just numbers\n",
    "    height=heart_disease_counts.values,\n",
    "    color=['green', 'crimson'],\n",
    ")\n",
    "\n",
    "plt.title('Heart Disease Distribution')\n",
    "plt.xlabel('Heart Disease (0 = No, 1 = Yes)')\n",
    "plt.ylabel('Number of People')\n",
    "plt.show()"
   ]
  },
  {
   "cell_type": "markdown",
   "id": "f8bf9436",
   "metadata": {},
   "source": [
    "Sleep vs Heart health\n"
   ]
  },
  {
   "cell_type": "code",
   "execution_count": null,
   "id": "a5e51c62",
   "metadata": {},
   "outputs": [],
   "source": [
    "plt.figure(figsize=(8, 5))\n",
    "sns.regplot(\n",
    "    x='Hours_of_Sleep',\n",
    "    y='Heart_Rate',\n",
    "    data=df,\n",
    "    scatter_kws={'alpha': 0.6, 'color': 'mediumslateblue'},\n",
    "    line_kws={'color': 'red', 'linewidth': 2}\n",
    ")\n",
    "plt.title(\"Sleep Duration vs Heart Rate\")\n",
    "plt.xlabel(\"Hours of Sleep\")\n",
    "plt.ylabel(\"Heart Rate (Bpm)\")\n",
    "plt.grid(True)\n",
    "plt.tight_layout()\n",
    "plt.show()"
   ]
  },
  {
   "cell_type": "markdown",
   "id": "fd386844",
   "metadata": {},
   "source": [
    "The relationship is weak — sleep alone doesn’t explain much of the variation in heart rate.\n",
    "\n",
    "There is no  correlation between sleep hours and heart rate.\n",
    "\n",
    "Other factors (like fitness, stress, caffeine, etc.) probably play a big role in heart rate too.\n",
    "\n"
   ]
  },
  {
   "cell_type": "code",
   "execution_count": null,
   "id": "61d4300b",
   "metadata": {},
   "outputs": [],
   "source": [
    "plt.figure(figsize=(10, 5))\n",
    "sns.boxplot(x='Heart_Disease', y='Hours_of_Sleep', data=df)\n",
    "\n",
    "plt.title('Hours of Sleep vs Heart Disease ')\n",
    "plt.ylabel('Hours of Sleep')\n",
    "plt.xlabel('Heart_Disease')\n",
    "plt.tight_layout()\n",
    "plt.show()"
   ]
  },
  {
   "cell_type": "code",
   "execution_count": null,
   "id": "1d1a5814",
   "metadata": {},
   "outputs": [],
   "source": [
    "df.groupby('Heart_Disease')['Hours_of_Sleep'].describe()"
   ]
  },
  {
   "cell_type": "markdown",
   "id": "74bd173d",
   "metadata": {},
   "source": [
    "Sleep duration alone doesn't differ significantly between individuals with and without heart disease — at least not visually.\n"
   ]
  },
  {
   "cell_type": "markdown",
   "id": "b699507c",
   "metadata": {},
   "source": [
    "Exercise vs Heart health"
   ]
  },
  {
   "cell_type": "code",
   "execution_count": null,
   "id": "e325ef77",
   "metadata": {},
   "outputs": [],
   "source": [
    "plt.figure(figsize=(8, 5))\n",
    "sns.regplot(\n",
    "    x='Heart_Rate',\n",
    "    y='Exercise_Hours_per_Week',\n",
    "    data=df,\n",
    "    scatter_kws={'alpha': 0.6, 'color': 'mediumslateblue'},\n",
    "    line_kws={'color': 'red', 'linewidth': 2}\n",
    ")\n",
    "plt.title(\"Exercise Hours per Week vs Heart Rate\")\n",
    "plt.xlabel(\"Heart Rate\")\n",
    "plt.ylabel(\"Exercise Hours per Week\")\n",
    "plt.grid(True)\n",
    "plt.tight_layout()\n",
    "plt.show()"
   ]
  },
  {
   "cell_type": "code",
   "execution_count": null,
   "id": "165c9042",
   "metadata": {},
   "outputs": [],
   "source": [
    "df['HR_bin'] = pd.cut(df['Heart_Rate'], bins=range(50, 125, 5), right=False) #Using 'pd.cut' to segment and sort data values into bins\n",
    "\n",
    "plt.figure(figsize=(16, 6))\n",
    "sns.boxplot(data=df, x='HR_bin', y='Exercise_Hours_per_Week')\n",
    "\n",
    "plt.xticks(rotation=45, ha='right')\n",
    "plt.xlabel(\"Heart Rate (binned)\")\n",
    "plt.ylabel(\"Exercise Hours per Week\")\n",
    "plt.title(\"Exercise Hours per Week vs Heart Rate (binned)\")\n",
    "plt.tight_layout()\n",
    "plt.show()"
   ]
  },
  {
   "cell_type": "markdown",
   "id": "8fb4b0d9",
   "metadata": {},
   "source": [
    "More hours of exercise per week are associated with a lower resting heart rate, supporting known cardiovascular fitness effects — although the relationship appears moderate or weak in this dataset."
   ]
  },
  {
   "cell_type": "markdown",
   "id": "e7b70460",
   "metadata": {},
   "source": [
    "Heart Disease vs No Heart Disease"
   ]
  },
  {
   "cell_type": "code",
   "execution_count": null,
   "id": "e44ededc",
   "metadata": {},
   "outputs": [],
   "source": [
    "avg_sleep = df.groupby('Heart_Disease')['Hours_of_Sleep'].mean()\n",
    "print(avg_sleep)"
   ]
  },
  {
   "cell_type": "code",
   "execution_count": null,
   "id": "55827671",
   "metadata": {},
   "outputs": [],
   "source": [
    "avg_exercise_hours = df.groupby('Heart_Disease')['Exercise_Hours_per_Week'].mean()\n",
    "print(avg_exercise_hours)"
   ]
  },
  {
   "cell_type": "code",
   "execution_count": null,
   "id": "67f9e926",
   "metadata": {},
   "outputs": [],
   "source": [
    "# First, split into two new columns\n",
    "df[['Systolic_BP', 'Diastolic_BP']] = df['Blood_Pressure'].str.split('/', expand=True)\n",
    "\n",
    "# Convert them to numeric\n",
    "df['Systolic_BP'] = pd.to_numeric(df['Systolic_BP'], errors='coerce')\n",
    "df['Diastolic_BP'] = pd.to_numeric(df['Diastolic_BP'], errors='coerce')\n"
   ]
  },
  {
   "cell_type": "code",
   "execution_count": null,
   "id": "4b959251",
   "metadata": {},
   "outputs": [],
   "source": [
    "avg_hr_bp = df.groupby('Heart_Disease')[['Heart_Rate', 'Systolic_BP', 'Diastolic_BP']].mean().round(2)\n",
    "print(avg_hr_bp)"
   ]
  },
  {
   "cell_type": "markdown",
   "id": "6867ce4c",
   "metadata": {},
   "source": [
    "In this dataset, only blood pressure shows the clearest relationship with heart disease.\n",
    "Sleep, exercise, and heart rate show no strong or clear differences between groups"
   ]
  },
  {
   "cell_type": "markdown",
   "id": "bd9063f6",
   "metadata": {},
   "source": []
  }
 ],
 "metadata": {
  "kernelspec": {
   "display_name": "Python 3",
   "language": "python",
   "name": "python3"
  },
  "language_info": {
   "codemirror_mode": {
    "name": "ipython",
    "version": 3
   },
   "file_extension": ".py",
   "mimetype": "text/x-python",
   "name": "python",
   "nbconvert_exporter": "python",
   "pygments_lexer": "ipython3",
   "version": "3.11.9"
  }
 },
 "nbformat": 4,
 "nbformat_minor": 5
}
